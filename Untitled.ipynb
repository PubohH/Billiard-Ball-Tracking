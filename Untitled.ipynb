{
 "cells": [
  {
   "cell_type": "code",
   "execution_count": 1,
   "id": "aca09b2d",
   "metadata": {},
   "outputs": [
    {
     "name": "stdout",
     "output_type": "stream",
     "text": [
      "First frame saved as first_frame.jpg\n"
     ]
    }
   ],
   "source": [
    "import cv2\n",
    "\n",
    "# Path to the video file\n",
    "video_path = '3CTest1.mp4'\n",
    "\n",
    "# Open the video capture\n",
    "cap = cv2.VideoCapture(video_path)\n",
    "\n",
    "# Check if the video capture was successful\n",
    "if not cap.isOpened():\n",
    "    print(\"Error opening video file\")\n",
    "    exit()\n",
    "\n",
    "# Read the first frame\n",
    "ret, frame = cap.read()\n",
    "\n",
    "# Check if a frame was read successfully\n",
    "if not ret:\n",
    "    print(\"Error reading video frame\")\n",
    "    cap.release()\n",
    "    exit()\n",
    "\n",
    "# Save the first frame as an image\n",
    "output_image_path = 'first_frame.jpg'\n",
    "cv2.imwrite(output_image_path, frame)\n",
    "\n",
    "# Release the video capture\n",
    "cap.release()\n",
    "\n",
    "print(\"First frame saved as\", output_image_path)\n"
   ]
  },
  {
   "cell_type": "code",
   "execution_count": null,
   "id": "ea78254c",
   "metadata": {},
   "outputs": [],
   "source": []
  }
 ],
 "metadata": {
  "kernelspec": {
   "display_name": "Python 3 (ipykernel)",
   "language": "python",
   "name": "python3"
  },
  "language_info": {
   "codemirror_mode": {
    "name": "ipython",
    "version": 3
   },
   "file_extension": ".py",
   "mimetype": "text/x-python",
   "name": "python",
   "nbconvert_exporter": "python",
   "pygments_lexer": "ipython3",
   "version": "3.10.11"
  }
 },
 "nbformat": 4,
 "nbformat_minor": 5
}
